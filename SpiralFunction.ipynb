{
 "cells": [
  {
   "cell_type": "code",
   "execution_count": 1,
   "metadata": {},
   "outputs": [
    {
     "name": "stdout",
     "output_type": "stream",
     "text": [
      "\u001b[33mDEPRECATION: Python 2.7 reached the end of its life on January 1st, 2020. Please upgrade your Python as Python 2.7 is no longer maintained. pip 21.0 will drop support for Python 2.7 in January 2021. More details about Python 2 support in pip, can be found at https://pip.pypa.io/en/latest/development/release-process/#python-2-support\u001b[0m\n",
      "\u001b[31mERROR: Could not find a version that satisfies the requirement pytorch-lightning==0.7.6 (from versions: 0.0.2, 0.5.3, 0.5.3.1)\u001b[0m\n",
      "\u001b[31mERROR: No matching distribution found for pytorch-lightning==0.7.6\u001b[0m\n",
      "\u001b[33mWARNING: You are using pip version 20.1; however, version 20.1.1 is available.\n",
      "You should consider upgrading via the '/usr/bin/python -m pip install --upgrade pip' command.\u001b[0m\n",
      "cpu\n",
      "The autoreload extension is already loaded. To reload it, use:\n",
      "  %reload_ext autoreload\n"
     ]
    }
   ],
   "source": [
    "%load_ext autoreload\n",
    "%autoreload 2\n",
    "!pip install pytorch-lightning==0.7.6 > /dev/null\n",
    "import pytorch_lightning as pl\n",
    "import torch\n",
    "\n",
    "device = torch.device(\"cuda\" if torch.cuda.is_available() else \"cpu\")\n",
    "print(device)\n",
    "\n",
    "from PIL import Image\n",
    "import numpy as np\n",
    "import matplotlib.pyplot as plt\n",
    "import os\n",
    "import torch.nn as nn\n",
    "import torch.nn.functional as F\n",
    "import math\n",
    "from scipy.integrate import solve_ivp\n",
    "import time\n",
    "\n",
    "%matplotlib inline\n",
    "#plt.rcParams['figure.figsize'] = (10.0, 8.0) # set default size of plots\n",
    "plt.rcParams['image.interpolation'] = 'nearest'\n",
    "plt.rcParams['image.cmap'] = 'gray'\n",
    "\n",
    "# for auto-reloading external modules\n",
    "# see http://stackoverflow.com/questions/1907993/autoreload-of-modules-in-ipython\n",
    "%load_ext autoreload\n",
    "%autoreload 2"
   ]
  },
  {
   "cell_type": "code",
   "execution_count": 2,
   "metadata": {},
   "outputs": [],
   "source": [
    "from network import Euler\n",
    "from Util import *\n",
    "from DataGenerator import *\n",
    "from Trainer import *"
   ]
  },
  {
   "cell_type": "code",
   "execution_count": 3,
   "metadata": {},
   "outputs": [
    {
     "data": {
      "image/png": "[encoded data removed]",
      "text/plain": [
       "<Figure size 432x288 with 1 Axes>"
      ]
     },
     "metadata": {
      "needs_background": "light"
     },
     "output_type": "display_data"
    },
    {
     "name": "stdout",
     "output_type": "stream",
     "text": [
      "(13426) points are generated\n"
     ]
    }
   ],
   "source": [
    "# Generate data for spiral function\n",
    "def vector_field_spiral(t, x):\n",
    "    v = [-0.1 * x[0] - 0.5 * x[1], 0.5 * x[0] - 0.1 * x[1]]\n",
    "    return v\n",
    "\n",
    "# Sample initial points\n",
    "num_points = 250\n",
    "x = np.random.uniform(-2, 2, num_points)\n",
    "y = np.random.uniform(-2, 2, num_points)\n",
    "fig, ax = plt.subplots()\n",
    "ax.scatter(x, y)\n",
    "ax.set_title(\"{} points are generated.\".format(num_points))\n",
    "plt.show()\n",
    "\n",
    "\n",
    "# Generate Trajectories\n",
    "duration = 100\n",
    "DATAPOINTS = None\n",
    "for i, j in tuple(zip(x, y)):\n",
    "    trajectory = generate_trajectory_by_ivp([i, j], fun=vector_field_spiral, alpha=None, duration=duration)\n",
    "    if DATAPOINTS is None:\n",
    "        DATAPOINTS = trajectory\n",
    "    else:\n",
    "        DATAPOINTS = torch.cat([DATAPOINTS, trajectory], dim=0)\n",
    "print(\"({}) points are generated\".format(len(DATAPOINTS)))\n",
    "\n",
    "# Train\n",
    "N = len(DATAPOINTS)  # Size of dataset\n",
    "M = 2  # input_size\n",
    "D = 2  # output_size\n",
    "H = 128  # hidden_size\n"
   ]
  },
  {
   "cell_type": "code",
   "execution_count": 4,
   "metadata": {},
   "outputs": [
    {
     "name": "stdout",
     "output_type": "stream",
     "text": [
      "(Epoch 1 / 10, seconds: 1) train loss: 0.002421 validation loss: 0.033207\n",
      "(Epoch 2 / 10, seconds: 1) train loss: 0.001028 validation loss: 0.009443\n",
      "(Epoch 3 / 10, seconds: 1) train loss: 0.000489 validation loss: 0.008357\n",
      "(Epoch 4 / 10, seconds: 1) train loss: 0.000475 validation loss: 0.008221\n",
      "(Epoch 5 / 10, seconds: 1) train loss: 0.000472 validation loss: 0.008159\n",
      "(Epoch 6 / 10, seconds: 1) train loss: 0.000469 validation loss: 0.008122\n",
      "(Epoch 7 / 10, seconds: 1) train loss: 0.000467 validation loss: 0.008094\n",
      "(Epoch 8 / 10, seconds: 1) train loss: 0.000466 validation loss: 0.008069\n",
      "(Epoch 9 / 10, seconds: 1) train loss: 0.000464 validation loss: 0.008049\n",
      "(Epoch 10 / 10, seconds: 1) train loss: 0.000463 validation loss: 0.008030\n"
     ]
    }
   ],
   "source": [
    "# TRAIN EULER\n",
    "model_euler = Eueler(input_size=M, output_size=D, hidden_size=H).to(device)\n",
    "loss_fn = nn.MSELoss()\n",
    "learning_rate = 1e-4\n",
    "optimizer = torch.optim.Adam(model_euler.parameters(), lr=learning_rate)\n",
    "\n",
    "num_train, num_val, num_test = int(N * 0.6), int(N * 0.3), int(N * 0.1)\n",
    "\n",
    "np.random.seed(0)\n",
    "indices = np.random.permutation(N)\n",
    "train_idx, val_idx, test_idx = indices[:num_train], indices[num_train:num_train + num_val], indices[\n",
    "                                                                                            num_train + num_val:]\n",
    "batch_size = 32\n",
    "batch_num = np.math.floor(N / batch_size)\n",
    "batched_train_idxs = np.array_split(train_idx, batch_num)\n",
    "X = DATAPOINTS[:, :M]\n",
    "X_1 = DATAPOINTS[:, M:]\n",
    "\n",
    "epochs = 10\n",
    "\n",
    "dt = torch.tensor(0.001).to(device).float()\n",
    "for t in range(epochs):\n",
    "    train_epoch_loss = 0.0\n",
    "    seconds = time.time()\n",
    "    for batch_idx in batched_train_idxs:\n",
    "        x_0_with_alpha = X[batch_idx].float()\n",
    "        x_1 = X_1[batch_idx].float()\n",
    "\n",
    "        y_pred = model_euler(x_0_with_alpha, dt)  # NxM => NxD\n",
    "\n",
    "        # Compute and print loss.\n",
    "        loss = loss_fn(y_pred, x_1)\n",
    "        train_epoch_loss += loss\n",
    "\n",
    "        optimizer.zero_grad()\n",
    "\n",
    "        loss.backward()\n",
    "\n",
    "        optimizer.step()\n",
    "    train_epoch_loss /= len(train_idx)\n",
    "    validation_loss = loss_fn(model_euler(X[val_idx].float(), dt), X_1[val_idx].float())\n",
    "    print('(Epoch %d / %d, seconds: %d) train loss: %f validation loss: %f' % (\n",
    "        t + 1, epochs, (time.time() - seconds), train_epoch_loss, validation_loss))"
   ]
  },
  {
   "cell_type": "code",
   "execution_count": 5,
   "metadata": {},
   "outputs": [
    {
     "name": "stdout",
     "output_type": "stream",
     "text": [
      "(Epoch 1 / 20, seconds: 1) train loss: 0.003849 validation loss: 0.030277\n",
      "(Epoch 2 / 20, seconds: 1) train loss: 0.000744 validation loss: 0.011541\n",
      "(Epoch 3 / 20, seconds: 1) train loss: 0.000569 validation loss: 0.010758\n",
      "(Epoch 4 / 20, seconds: 1) train loss: 0.000546 validation loss: 0.010336\n",
      "(Epoch 5 / 20, seconds: 1) train loss: 0.000530 validation loss: 0.010006\n",
      "(Epoch 6 / 20, seconds: 1) train loss: 0.000518 validation loss: 0.009735\n",
      "(Epoch 7 / 20, seconds: 1) train loss: 0.000508 validation loss: 0.009506\n",
      "(Epoch 8 / 20, seconds: 1) train loss: 0.000499 validation loss: 0.009316\n",
      "(Epoch 9 / 20, seconds: 1) train loss: 0.000492 validation loss: 0.009152\n",
      "(Epoch 10 / 20, seconds: 1) train loss: 0.000486 validation loss: 0.009022\n",
      "(Epoch 11 / 20, seconds: 1) train loss: 0.000481 validation loss: 0.008903\n",
      "(Epoch 12 / 20, seconds: 1) train loss: 0.000477 validation loss: 0.008808\n",
      "(Epoch 13 / 20, seconds: 1) train loss: 0.000474 validation loss: 0.008730\n",
      "(Epoch 14 / 20, seconds: 1) train loss: 0.000471 validation loss: 0.008658\n",
      "(Epoch 15 / 20, seconds: 1) train loss: 0.000469 validation loss: 0.008604\n",
      "(Epoch 16 / 20, seconds: 1) train loss: 0.000467 validation loss: 0.008557\n",
      "(Epoch 17 / 20, seconds: 1) train loss: 0.000465 validation loss: 0.008513\n",
      "(Epoch 18 / 20, seconds: 1) train loss: 0.000463 validation loss: 0.008477\n",
      "(Epoch 19 / 20, seconds: 1) train loss: 0.000462 validation loss: 0.008447\n",
      "(Epoch 20 / 20, seconds: 1) train loss: 0.000461 validation loss: 0.008417\n"
     ]
    }
   ],
   "source": [
    "# TRAIN RUNGE KUTTA 4\n",
    "model_runge = RungeKuttaCompact(input_size=M, output_size=D, hidden_size=H).to(device)\n",
    "loss_fn = nn.MSELoss()\n",
    "learning_rate = 1e-4\n",
    "optimizer = torch.optim.Adam(model_euler.parameters(), lr=learning_rate)\n",
    "\n",
    "num_train, num_val, num_test = int(N * 0.6), int(N * 0.3), int(N * 0.1)\n",
    "\n",
    "np.random.seed(0)\n",
    "indices = np.random.permutation(N)\n",
    "train_idx, val_idx, test_idx = indices[:num_train], indices[num_train:num_train + num_val], indices[\n",
    "                                                                                            num_train + num_val:]\n",
    "batch_size = 32\n",
    "batch_num = np.math.floor(N / batch_size)\n",
    "batched_train_idxs = np.array_split(train_idx, batch_num)\n",
    "X = DATAPOINTS[:, :M]\n",
    "X_1 = DATAPOINTS[:, M:]\n",
    "\n",
    "epochs = 20\n",
    "\n",
    "dt = torch.tensor(0.01).to(device).float()\n",
    "for t in range(epochs):\n",
    "    train_epoch_loss = 0.0\n",
    "    seconds = time.time()\n",
    "    for batch_idx in batched_train_idxs:\n",
    "        x_0_with_alpha = X[batch_idx].float()\n",
    "        x_1 = X_1[batch_idx].float()\n",
    "\n",
    "        y_pred = model_euler(x_0_with_alpha, dt)  # NxM => NxD\n",
    "\n",
    "        # Compute and print loss.\n",
    "        loss = loss_fn(y_pred, x_1)\n",
    "        train_epoch_loss += loss\n",
    "\n",
    "        optimizer.zero_grad()\n",
    "\n",
    "        loss.backward()\n",
    "\n",
    "        optimizer.step()\n",
    "    train_epoch_loss /= len(train_idx)\n",
    "    validation_loss = loss_fn(model_euler(X[val_idx].float(), dt), X_1[val_idx].float())\n",
    "    print('(Epoch %d / %d, seconds: %d) train loss: %f validation loss: %f' % (\n",
    "        t + 1, epochs, (time.time() - seconds), train_epoch_loss, validation_loss))"
   ]
  },
  {
   "cell_type": "code",
   "execution_count": 6,
   "metadata": {},
   "outputs": [
    {
     "name": "stdout",
     "output_type": "stream",
     "text": [
      "EULER METHOD BY HAND\n"
     ]
    },
    {
     "data": {
      "image/png": "[encoded data removed]",
      "text/plain": [
       "<Figure size 432x216 with 2 Axes>"
      ]
     },
     "metadata": {
      "needs_background": "light"
     },
     "output_type": "display_data"
    },
    {
     "name": "stdout",
     "output_type": "stream",
     "text": [
      "RUNGE KUTTA BY HAND\n"
     ]
    },
    {
     "data": {
      "image/png": "[encoded data removed]",
      "text/plain": [
       "<Figure size 432x216 with 2 Axes>"
      ]
     },
     "metadata": {
      "needs_background": "light"
     },
     "output_type": "display_data"
    }
   ],
   "source": [
    "point = [1.35, 1.35]\n",
    "print(\"EULER METHOD BY HAND\")\n",
    "trajectory_1 = generate_trajectory_by_euler(fun=vector_field_spiral, start_point=point, alpha=None, duration=100, time_step = 0.1)\n",
    "visualize_trajectories([trajectory_1,trajectory_1], point, [-1,-1])\n",
    "\n",
    "print(\"RUNGE KUTTA BY HAND\")\n",
    "trajectory_1 = generate_trajectory_by_rung4(fun=vector_field_spiral, start_point=point, alpha=None, duration=100, time_step = 0.1)\n",
    "visualize_trajectories([trajectory_1,trajectory_1], point, [-1,-1])"
   ]
  },
  {
   "cell_type": "code",
   "execution_count": 7,
   "metadata": {},
   "outputs": [
    {
     "data": {
      "image/png": "[encoded data removed]",
      "text/plain": [
       "<Figure size 432x216 with 2 Axes>"
      ]
     },
     "metadata": {
      "needs_background": "light"
     },
     "output_type": "display_data"
    }
   ],
   "source": [
    "time_step = 0.01\n",
    "points = np.empty((1, 4))\n",
    "t = 0\n",
    "p = np.array(point)\n",
    "\n",
    "torch_time_step = torch.tensor(time_step).to(device).float()\n",
    "\n",
    "while t < duration:\n",
    "    x_1 = model_euler(torch.from_numpy(p.reshape(1, 2)).float(), torch_time_step).detach().numpy()\n",
    "\n",
    "    row = np.append(p, x_1).reshape(1, 4)\n",
    "\n",
    "    points = np.vstack((points, row))\n",
    "\n",
    "    p = x_1\n",
    "    t += time_step\n",
    "    \n",
    "trajectory_1 = torch.from_numpy(points).float()\n",
    "visualize_trajectories([trajectory_1,trajectory_1], point, [-1,1])"
   ]
  },
  {
   "cell_type": "code",
   "execution_count": null,
   "metadata": {},
   "outputs": [],
   "source": []
  }
 ],
 "metadata": {
  "kernelspec": {
   "display_name": "Python 3",
   "language": "python",
   "name": "python3"
  },
  "language_info": {
   "codemirror_mode": {
    "name": "ipython",
    "version": 3
   },
   "file_extension": ".py",
   "mimetype": "text/x-python",
   "name": "python",
   "nbconvert_exporter": "python",
   "pygments_lexer": "ipython3",
   "version": "3.7.7"
  }
 },
 "nbformat": 4,
 "nbformat_minor": 2
}
