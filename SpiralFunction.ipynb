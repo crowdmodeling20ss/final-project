{
 "cells": [
  {
   "cell_type": "code",
   "execution_count": 1,
   "metadata": {},
   "outputs": [
    {
     "name": "stdout",
     "output_type": "stream",
     "text": [
      "\u001b[33mDEPRECATION: Python 2.7 reached the end of its life on January 1st, 2020. Please upgrade your Python as Python 2.7 is no longer maintained. pip 21.0 will drop support for Python 2.7 in January 2021. More details about Python 2 support in pip, can be found at https://pip.pypa.io/en/latest/development/release-process/#python-2-support\u001b[0m\n",
      "\u001b[31mERROR: Could not find a version that satisfies the requirement pytorch-lightning==0.7.6 (from versions: 0.0.2, 0.5.3, 0.5.3.1)\u001b[0m\n",
      "\u001b[31mERROR: No matching distribution found for pytorch-lightning==0.7.6\u001b[0m\n",
      "\u001b[33mWARNING: You are using pip version 20.1; however, version 20.1.1 is available.\n",
      "You should consider upgrading via the '/usr/bin/python -m pip install --upgrade pip' command.\u001b[0m\n",
      "cpu\n",
      "The autoreload extension is already loaded. To reload it, use:\n",
      "  %reload_ext autoreload\n"
     ]
    }
   ],
   "source": [
    "%load_ext autoreload\n",
    "%autoreload 2\n",
    "!pip install pytorch-lightning==0.7.6 > /dev/null\n",
    "import pytorch_lightning as pl\n",
    "import torch\n",
    "\n",
    "device = torch.device(\"cuda\" if torch.cuda.is_available() else \"cpu\")\n",
    "print(device)\n",
    "\n",
    "from PIL import Image\n",
    "import numpy as np\n",
    "import matplotlib.pyplot as plt\n",
    "import os\n",
    "import torch.nn as nn\n",
    "import torch.nn.functional as F\n",
    "import math\n",
    "from scipy.integrate import solve_ivp\n",
    "import time\n",
    "\n",
    "%matplotlib inline\n",
    "#plt.rcParams['figure.figsize'] = (10.0, 8.0) # set default size of plots\n",
    "plt.rcParams['image.interpolation'] = 'nearest'\n",
    "plt.rcParams['image.cmap'] = 'gray'\n",
    "\n",
    "# for auto-reloading external modules\n",
    "# see http://stackoverflow.com/questions/1907993/autoreload-of-modules-in-ipython\n",
    "%load_ext autoreload\n",
    "%autoreload 2"
   ]
  },
  {
   "cell_type": "code",
   "execution_count": 2,
   "metadata": {},
   "outputs": [],
   "source": [
    "from network import Euler\n",
    "from Util import *\n",
    "from DataGenerator import *\n",
    "from Trainer import *\n"
   ]
  },
  {
   "cell_type": "code",
   "execution_count": 3,
   "metadata": {},
   "outputs": [
    {
     "data": {
      "image/png": "[encoded data removed]",
      "text/plain": [
       "<Figure size 432x288 with 1 Axes>"
      ]
     },
     "metadata": {
      "needs_background": "light"
     },
     "output_type": "display_data"
    },
    {
     "name": "stdout",
     "output_type": "stream",
     "text": [
      "(804) points are generated\n",
      "(Epoch 1 / 100, seconds: 0) train loss: 0.001905 validation loss: 0.049927\n",
      "(Epoch 2 / 100, seconds: 0) train loss: 0.001890 validation loss: 0.049498\n",
      "(Epoch 3 / 100, seconds: 0) train loss: 0.001865 validation loss: 0.048701\n",
      "(Epoch 4 / 100, seconds: 0) train loss: 0.001816 validation loss: 0.047143\n",
      "(Epoch 5 / 100, seconds: 0) train loss: 0.001719 validation loss: 0.044076\n",
      "(Epoch 6 / 100, seconds: 0) train loss: 0.001542 validation loss: 0.038738\n",
      "(Epoch 7 / 100, seconds: 0) train loss: 0.001294 validation loss: 0.032289\n",
      "(Epoch 8 / 100, seconds: 0) train loss: 0.001094 validation loss: 0.027815\n",
      "(Epoch 9 / 100, seconds: 0) train loss: 0.000976 validation loss: 0.024782\n",
      "(Epoch 10 / 100, seconds: 0) train loss: 0.000863 validation loss: 0.021482\n",
      "(Epoch 11 / 100, seconds: 0) train loss: 0.000737 validation loss: 0.017639\n",
      "(Epoch 12 / 100, seconds: 0) train loss: 0.000613 validation loss: 0.013905\n",
      "(Epoch 13 / 100, seconds: 0) train loss: 0.000520 validation loss: 0.011119\n",
      "(Epoch 14 / 100, seconds: 0) train loss: 0.000470 validation loss: 0.009506\n",
      "(Epoch 15 / 100, seconds: 0) train loss: 0.000448 validation loss: 0.008717\n",
      "(Epoch 16 / 100, seconds: 0) train loss: 0.000437 validation loss: 0.008348\n",
      "(Epoch 17 / 100, seconds: 0) train loss: 0.000431 validation loss: 0.008169\n",
      "(Epoch 18 / 100, seconds: 0) train loss: 0.000427 validation loss: 0.008070\n",
      "(Epoch 19 / 100, seconds: 0) train loss: 0.000423 validation loss: 0.008017\n",
      "(Epoch 20 / 100, seconds: 0) train loss: 0.000421 validation loss: 0.007984\n",
      "(Epoch 21 / 100, seconds: 0) train loss: 0.000418 validation loss: 0.007958\n",
      "(Epoch 22 / 100, seconds: 0) train loss: 0.000416 validation loss: 0.007950\n",
      "(Epoch 23 / 100, seconds: 0) train loss: 0.000414 validation loss: 0.007936\n",
      "(Epoch 24 / 100, seconds: 0) train loss: 0.000412 validation loss: 0.007929\n",
      "(Epoch 25 / 100, seconds: 0) train loss: 0.000411 validation loss: 0.007925\n",
      "(Epoch 26 / 100, seconds: 0) train loss: 0.000409 validation loss: 0.007923\n",
      "(Epoch 27 / 100, seconds: 0) train loss: 0.000407 validation loss: 0.007927\n",
      "(Epoch 28 / 100, seconds: 0) train loss: 0.000406 validation loss: 0.007927\n",
      "(Epoch 29 / 100, seconds: 0) train loss: 0.000405 validation loss: 0.007929\n",
      "(Epoch 30 / 100, seconds: 0) train loss: 0.000403 validation loss: 0.007926\n",
      "(Epoch 31 / 100, seconds: 0) train loss: 0.000402 validation loss: 0.007928\n",
      "(Epoch 32 / 100, seconds: 0) train loss: 0.000401 validation loss: 0.007926\n",
      "(Epoch 33 / 100, seconds: 0) train loss: 0.000399 validation loss: 0.007918\n",
      "(Epoch 34 / 100, seconds: 0) train loss: 0.000398 validation loss: 0.007923\n",
      "(Epoch 35 / 100, seconds: 0) train loss: 0.000397 validation loss: 0.007922\n",
      "(Epoch 36 / 100, seconds: 0) train loss: 0.000396 validation loss: 0.007924\n",
      "(Epoch 37 / 100, seconds: 0) train loss: 0.000395 validation loss: 0.007930\n",
      "(Epoch 38 / 100, seconds: 0) train loss: 0.000394 validation loss: 0.007931\n",
      "(Epoch 39 / 100, seconds: 0) train loss: 0.000392 validation loss: 0.007931\n",
      "(Epoch 40 / 100, seconds: 0) train loss: 0.000391 validation loss: 0.007934\n",
      "(Epoch 41 / 100, seconds: 0) train loss: 0.000390 validation loss: 0.007934\n",
      "(Epoch 42 / 100, seconds: 0) train loss: 0.000389 validation loss: 0.007934\n",
      "(Epoch 43 / 100, seconds: 0) train loss: 0.000388 validation loss: 0.007938\n",
      "(Epoch 44 / 100, seconds: 0) train loss: 0.000387 validation loss: 0.007933\n",
      "(Epoch 45 / 100, seconds: 0) train loss: 0.000386 validation loss: 0.007937\n",
      "(Epoch 46 / 100, seconds: 0) train loss: 0.000385 validation loss: 0.007935\n",
      "(Epoch 47 / 100, seconds: 0) train loss: 0.000384 validation loss: 0.007934\n",
      "(Epoch 48 / 100, seconds: 0) train loss: 0.000383 validation loss: 0.007940\n",
      "(Epoch 49 / 100, seconds: 0) train loss: 0.000382 validation loss: 0.007931\n",
      "(Epoch 50 / 100, seconds: 0) train loss: 0.000381 validation loss: 0.007935\n",
      "(Epoch 51 / 100, seconds: 0) train loss: 0.000380 validation loss: 0.007939\n",
      "(Epoch 52 / 100, seconds: 0) train loss: 0.000379 validation loss: 0.007942\n",
      "(Epoch 53 / 100, seconds: 0) train loss: 0.000379 validation loss: 0.007935\n",
      "(Epoch 54 / 100, seconds: 0) train loss: 0.000378 validation loss: 0.007942\n",
      "(Epoch 55 / 100, seconds: 0) train loss: 0.000377 validation loss: 0.007944\n",
      "(Epoch 56 / 100, seconds: 0) train loss: 0.000376 validation loss: 0.007948\n",
      "(Epoch 57 / 100, seconds: 0) train loss: 0.000375 validation loss: 0.007947\n",
      "(Epoch 58 / 100, seconds: 0) train loss: 0.000374 validation loss: 0.007948\n",
      "(Epoch 59 / 100, seconds: 0) train loss: 0.000373 validation loss: 0.007952\n",
      "(Epoch 60 / 100, seconds: 0) train loss: 0.000372 validation loss: 0.007952\n",
      "(Epoch 61 / 100, seconds: 0) train loss: 0.000371 validation loss: 0.007960\n",
      "(Epoch 62 / 100, seconds: 0) train loss: 0.000370 validation loss: 0.007961\n",
      "(Epoch 63 / 100, seconds: 0) train loss: 0.000369 validation loss: 0.007967\n",
      "(Epoch 64 / 100, seconds: 0) train loss: 0.000368 validation loss: 0.007969\n",
      "(Epoch 65 / 100, seconds: 0) train loss: 0.000367 validation loss: 0.007965\n",
      "(Epoch 66 / 100, seconds: 0) train loss: 0.000367 validation loss: 0.007974\n",
      "(Epoch 67 / 100, seconds: 0) train loss: 0.000366 validation loss: 0.007976\n",
      "(Epoch 68 / 100, seconds: 0) train loss: 0.000365 validation loss: 0.007979\n",
      "(Epoch 69 / 100, seconds: 0) train loss: 0.000364 validation loss: 0.007987\n",
      "(Epoch 70 / 100, seconds: 0) train loss: 0.000363 validation loss: 0.007988\n",
      "(Epoch 71 / 100, seconds: 0) train loss: 0.000362 validation loss: 0.007990\n",
      "(Epoch 72 / 100, seconds: 0) train loss: 0.000361 validation loss: 0.007996\n",
      "(Epoch 73 / 100, seconds: 0) train loss: 0.000360 validation loss: 0.007998\n",
      "(Epoch 74 / 100, seconds: 0) train loss: 0.000359 validation loss: 0.007998\n",
      "(Epoch 75 / 100, seconds: 0) train loss: 0.000359 validation loss: 0.007999\n",
      "(Epoch 76 / 100, seconds: 0) train loss: 0.000358 validation loss: 0.008007\n",
      "(Epoch 77 / 100, seconds: 0) train loss: 0.000357 validation loss: 0.008010\n",
      "(Epoch 78 / 100, seconds: 0) train loss: 0.000356 validation loss: 0.008010\n",
      "(Epoch 79 / 100, seconds: 0) train loss: 0.000355 validation loss: 0.008015\n",
      "(Epoch 80 / 100, seconds: 0) train loss: 0.000354 validation loss: 0.008018\n",
      "(Epoch 81 / 100, seconds: 0) train loss: 0.000353 validation loss: 0.008029\n",
      "(Epoch 82 / 100, seconds: 0) train loss: 0.000352 validation loss: 0.008024\n",
      "(Epoch 83 / 100, seconds: 0) train loss: 0.000352 validation loss: 0.008038\n",
      "(Epoch 84 / 100, seconds: 0) train loss: 0.000351 validation loss: 0.008036\n",
      "(Epoch 85 / 100, seconds: 0) train loss: 0.000350 validation loss: 0.008045\n",
      "(Epoch 86 / 100, seconds: 0) train loss: 0.000349 validation loss: 0.008043\n",
      "(Epoch 87 / 100, seconds: 0) train loss: 0.000348 validation loss: 0.008054\n",
      "(Epoch 88 / 100, seconds: 0) train loss: 0.000347 validation loss: 0.008056\n",
      "(Epoch 89 / 100, seconds: 0) train loss: 0.000347 validation loss: 0.008057\n",
      "(Epoch 90 / 100, seconds: 0) train loss: 0.000346 validation loss: 0.008063\n",
      "(Epoch 91 / 100, seconds: 0) train loss: 0.000345 validation loss: 0.008070\n",
      "(Epoch 92 / 100, seconds: 0) train loss: 0.000344 validation loss: 0.008073\n",
      "(Epoch 93 / 100, seconds: 0) train loss: 0.000343 validation loss: 0.008080\n",
      "(Epoch 94 / 100, seconds: 0) train loss: 0.000342 validation loss: 0.008089\n",
      "(Epoch 95 / 100, seconds: 0) train loss: 0.000341 validation loss: 0.008095\n",
      "(Epoch 96 / 100, seconds: 0) train loss: 0.000341 validation loss: 0.008102\n",
      "(Epoch 97 / 100, seconds: 0) train loss: 0.000340 validation loss: 0.008108\n",
      "(Epoch 98 / 100, seconds: 0) train loss: 0.000339 validation loss: 0.008116\n",
      "(Epoch 99 / 100, seconds: 0) train loss: 0.000338 validation loss: 0.008129\n",
      "(Epoch 100 / 100, seconds: 0) train loss: 0.000337 validation loss: 0.008134\n"
     ]
    }
   ],
   "source": [
    "# Generate data for spiral function\n",
    "def vector_field_spiral(t, x):\n",
    "    v = [-0.1 * x[0] - 0.5 * x[1], 0.5 * x[0] - 0.1 * x[1]]\n",
    "    return v\n",
    "\n",
    "# Sample initial points\n",
    "num_points = 15\n",
    "x = np.random.uniform(-2, 2, num_points)\n",
    "y = np.random.uniform(-2, 2, num_points)\n",
    "fig, ax = plt.subplots()\n",
    "ax.scatter(x, y)\n",
    "ax.set_title(\"{} points are generated.\".format(num_points))\n",
    "plt.show()\n",
    "\n",
    "\n",
    "# Generate Trajectories\n",
    "duration = 100\n",
    "DATAPOINTS = None\n",
    "for i, j in tuple(zip(x, y)):\n",
    "    trajectory = generate_trajectory_by_ivp([i, j], fun=vector_field_spiral, alpha=None, duration=duration)\n",
    "    if DATAPOINTS is None:\n",
    "        DATAPOINTS = trajectory\n",
    "    else:\n",
    "        DATAPOINTS = torch.cat([DATAPOINTS, trajectory], dim=0)\n",
    "print(\"({}) points are generated\".format(len(DATAPOINTS)))\n",
    "\n",
    "# Train\n",
    "N = len(DATAPOINTS)  # Size of dataset\n",
    "M = 2  # input_size\n",
    "D = 2  # output_size\n",
    "H = 128  # hidden_size\n",
    "\n",
    "model = Eueler(input_size=M, output_size=D, hidden_size=H).to(device)\n",
    "loss_fn = nn.MSELoss()\n",
    "learning_rate = 1e-4\n",
    "optimizer = torch.optim.Adam(model.parameters(), lr=learning_rate)\n",
    "\n",
    "num_train, num_val, num_test = int(N * 0.6), int(N * 0.3), int(N * 0.1)\n",
    "\n",
    "np.random.seed(0)\n",
    "indices = np.random.permutation(N)\n",
    "train_idx, val_idx, test_idx = indices[:num_train], indices[num_train:num_train + num_val], indices[\n",
    "                                                                                            num_train + num_val:]\n",
    "batch_size = 32\n",
    "batch_num = np.math.floor(N / batch_size)\n",
    "batched_train_idxs = np.array_split(train_idx, batch_num)\n",
    "X = DATAPOINTS[:, :M]\n",
    "X_1 = DATAPOINTS[:, M:]\n",
    "\n",
    "epochs = 100\n",
    "\n",
    "dt = torch.tensor(0.1).to(device).float()\n",
    "for t in range(epochs):\n",
    "    train_epoch_loss = 0.0\n",
    "    seconds = time.time()\n",
    "    for batch_idx in batched_train_idxs:\n",
    "        x_0_with_alpha = X[batch_idx].float()\n",
    "        x_1 = X_1[batch_idx].float()\n",
    "\n",
    "        y_pred = model(x_0_with_alpha, dt)  # NxM => NxD\n",
    "\n",
    "        # Compute and print loss.\n",
    "        loss = loss_fn(y_pred, x_1)\n",
    "        train_epoch_loss += loss\n",
    "\n",
    "        optimizer.zero_grad()\n",
    "\n",
    "        loss.backward()\n",
    "\n",
    "        optimizer.step()\n",
    "    train_epoch_loss /= len(train_idx)\n",
    "    validation_loss = loss_fn(model(X[val_idx].float(), dt), X_1[val_idx].float())\n",
    "    print('(Epoch %d / %d, seconds: %d) train loss: %f validation loss: %f' % (\n",
    "        t + 1, epochs, (time.time() - seconds), train_epoch_loss, validation_loss))\n"
   ]
  },
  {
   "cell_type": "code",
   "execution_count": 4,
   "metadata": {},
   "outputs": [
    {
     "name": "stdout",
     "output_type": "stream",
     "text": [
      "EULER METHOD BY HAND\n"
     ]
    },
    {
     "data": {
      "image/png": "[encoded data removed]",
      "text/plain": [
       "<Figure size 432x216 with 2 Axes>"
      ]
     },
     "metadata": {
      "needs_background": "light"
     },
     "output_type": "display_data"
    }
   ],
   "source": [
    "point = [1.35, 1.35]\n",
    "print(\"EULER METHOD BY HAND\")\n",
    "trajectory_1 = generate_trajectory_by_euler(fun=vector_field_spiral, start_point=point, alpha=None, duration=100, time_step = 0.1)\n",
    "visualize_trajectories([trajectory_1,trajectory_1], point, [-1,-1])"
   ]
  },
  {
   "cell_type": "code",
   "execution_count": 15,
   "metadata": {},
   "outputs": [
    {
     "data": {
      "image/png": "[encoded data removed]",
      "text/plain": [
       "<Figure size 432x216 with 2 Axes>"
      ]
     },
     "metadata": {
      "needs_background": "light"
     },
     "output_type": "display_data"
    }
   ],
   "source": [
    "time_step = 0.13\n",
    "points = np.empty((1, 4))\n",
    "time = 0\n",
    "p = np.array(point)\n",
    "\n",
    "torch_time_step = torch.tensor(time_step).to(device).float()\n",
    "\n",
    "while time < duration:\n",
    "    x_1 = model(torch.from_numpy(p.reshape(1, 2)).float(), torch_time_step).detach().numpy()\n",
    "\n",
    "    row = np.append(p, x_1).reshape(1, 4)\n",
    "\n",
    "    points = np.vstack((points, row))\n",
    "\n",
    "    p = x_1\n",
    "    time += time_step\n",
    "    \n",
    "trajectory_1 = torch.from_numpy(points).float()\n",
    "visualize_trajectories([trajectory_1,trajectory_1], point, [-1,1])"
   ]
  },
  {
   "cell_type": "code",
   "execution_count": null,
   "metadata": {},
   "outputs": [],
   "source": []
  }
 ],
 "metadata": {
  "kernelspec": {
   "display_name": "Python 3",
   "language": "python",
   "name": "python3"
  },
  "language_info": {
   "codemirror_mode": {
    "name": "ipython",
    "version": 3
   },
   "file_extension": ".py",
   "mimetype": "text/x-python",
   "name": "python",
   "nbconvert_exporter": "python",
   "pygments_lexer": "ipython3",
   "version": "3.7.7"
  }
 },
 "nbformat": 4,
 "nbformat_minor": 2
}
